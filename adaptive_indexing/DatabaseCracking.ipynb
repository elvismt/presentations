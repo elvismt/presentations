{
 "cells": [
  {
   "cell_type": "markdown",
   "metadata": {},
   "source": [
    "# Database Cracking Demo\n",
    "\n",
    "\n",
    "```\n",
    " Copyright (C) 2017  LSBD Adaptive Databases Group\n",
    " \n",
    "Licensed under the Apache License, Version 2.0 (the \"License\");\n",
    "you may not use this file except in compliance with the License.\n",
    "You may obtain a copy of the License at\n",
    "\n",
    "      http://www.apache.org/licenses/LICENSE-2.0\n",
    "\n",
    "Unless required by applicable law or agreed to in writing, software\n",
    "distributed under the License is distributed on an \"AS IS\" BASIS,\n",
    "WITHOUT WARRANTIES OR CONDITIONS OF ANY KIND, either express or implied.\n",
    "See the License for the specific language governing permissions and\n",
    "limitations under the License.\n",
    "```\n",
    "\n",
    "## Reference:\n",
    "\n",
    "Idreos et. al. - Database Cracking - ICDE 2007"
   ]
  },
  {
   "cell_type": "code",
   "execution_count": 1,
   "metadata": {
    "collapsed": true
   },
   "outputs": [],
   "source": [
    "def crack_in_three(col, low, high, c1, c2):\n",
    "    \"\"\"\n",
    "    Cracks a column partition into three subparitions\n",
    "    and return te position of the new partition points\n",
    "    \"\"\"\n",
    "    i = low  # keeps track of the initial lower bound\n",
    "    j = high - 1 # keeps track of the initial upper bound\n",
    "    swaps = 0 # keeps track of the number of swaps performed\n",
    "    \n",
    "    while col[j] >= c2 and j > i:\n",
    "        j -= 1\n",
    "        \n",
    "    # from this point k is the lower bound\n",
    "    # i is used as a supporting variable\n",
    "    k = j\n",
    "    \n",
    "    while col[k] > c1 and k > i:\n",
    "        if col[k] >= c2:\n",
    "            col[j], col[k] = col[k], col[j]\n",
    "            swaps += 1\n",
    "            j -= 1\n",
    "        k -= 1\n",
    "    \n",
    "    while i < k:\n",
    "        if col[i] < c1:\n",
    "            i += 1\n",
    "        else:\n",
    "            col[i], col[k] = col[k], col[i]\n",
    "            swaps += 1\n",
    "            while col[k] > c1 and k > i:\n",
    "                if col[k] >= c2:\n",
    "                    col[j], col[k] = col[k], col[j]\n",
    "                    swaps += 1\n",
    "                    j -= 1\n",
    "                k -= 1\n",
    "                \n",
    "    return ((k, j), swaps)"
   ]
  },
  {
   "cell_type": "markdown",
   "metadata": {},
   "source": [
    "## CrackInThree algorithm\n",
    "\n",
    "Partitions the column so that all values in the selected range end up\n",
    "clustered together\n",
    "\n",
    "**Example:**"
   ]
  },
  {
   "cell_type": "code",
   "execution_count": 2,
   "metadata": {},
   "outputs": [
    {
     "name": "stdout",
     "output_type": "stream",
     "text": [
      "[0, 12, 18, 2, 14, 1, 15, 9, 7, 19, 10, 4, 6, 5, 16, 13, 3, 11, 8, 17]\n",
      "((8, 15), 13)\n",
      "[0, 3, 5, 2, 6, 1, 4, 7, 8, 12, 10, 9, 15, 14, 11, 13, 19, 16, 18, 17]\n"
     ]
    }
   ],
   "source": [
    "import random\n",
    "\n",
    "# Numbers from 0 to 19\n",
    "column = list(range(20))\n",
    "random.shuffle(column)\n",
    "print(column)\n",
    "\n",
    "# Crack and reurn the answer to the user\n",
    "print(crack_in_three(column, 0, len(column), 8, 16))\n",
    "print(column)"
   ]
  },
  {
   "cell_type": "markdown",
   "metadata": {},
   "source": [
    "## Cracker SELECT\n",
    "\n",
    "Each query looks for the lower and upper boundary in the cracker index\n",
    "and then cracks the partitions in the middle, if they aren't already in the\n",
    "smallest size."
   ]
  },
  {
   "cell_type": "code",
   "execution_count": 3,
   "metadata": {
    "collapsed": true
   },
   "outputs": [],
   "source": [
    "idx_min = None\n",
    "idx_max = None\n",
    "part_num = 0\n",
    "\n",
    "def cracker_select(col, idx, low, high):\n",
    "    \"\"\"\n",
    "    TODO\n",
    "    \"\"\"\n",
    "    part_num += 1\n",
    "    if len(idx) == 0:\n",
    "        ans = crack_in_three(col, 0, len(col), low, high)\n",
    "        idx_min = ans[0][0]\n",
    "        idx.insert(idx_min)\n",
    "        idx_max = ans[0][1]\n",
    "        idx.insert(idx_max)\n",
    "        return idx_max - idx_min\n",
    "    else:\n",
    "        first_part = 0 if low < idx_min else idx.floor_item(low)\n",
    "        last_part = part_num if high > idx_max else idx.floor_item(high)\n",
    "        "
   ]
  },
  {
   "cell_type": "code",
   "execution_count": null,
   "metadata": {
    "collapsed": true
   },
   "outputs": [],
   "source": [
    "import bintrees\n",
    "\n",
    "# cracker column (hundred million values)\n",
    "column = list(range(100))\n",
    "random.shuffle(column)\n",
    "\n",
    "# cracker index. keeps track of the positions of the cracks\n",
    "cracker_index = bintrees.AVLTree()"
   ]
  }
 ],
 "metadata": {
  "kernelspec": {
   "display_name": "Python 3",
   "language": "python",
   "name": "python3"
  },
  "language_info": {
   "codemirror_mode": {
    "name": "ipython",
    "version": 3
   },
   "file_extension": ".py",
   "mimetype": "text/x-python",
   "name": "python",
   "nbconvert_exporter": "python",
   "pygments_lexer": "ipython3",
   "version": "3.6.1"
  }
 },
 "nbformat": 4,
 "nbformat_minor": 2
}
