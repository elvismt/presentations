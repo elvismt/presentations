{
 "cells": [
  {
   "cell_type": "markdown",
   "metadata": {},
   "source": [
    "# Database Cracking Demo\n",
    "\n",
    "\n",
    "```\n",
    " Copyright (C) 2017  LSBD Adaptive Databases Group\n",
    " \n",
    "Licensed under the Apache License, Version 2.0 (the \"License\");\n",
    "you may not use this file except in compliance with the License.\n",
    "You may obtain a copy of the License at\n",
    "\n",
    "      http://www.apache.org/licenses/LICENSE-2.0\n",
    "\n",
    "Unless required by applicable law or agreed to in writing, software\n",
    "distributed under the License is distributed on an \"AS IS\" BASIS,\n",
    "WITHOUT WARRANTIES OR CONDITIONS OF ANY KIND, either express or implied.\n",
    "See the License for the specific language governing permissions and\n",
    "limitations under the License.\n",
    "```"
   ]
  },
  {
   "cell_type": "code",
   "execution_count": 1,
   "metadata": {
    "collapsed": true
   },
   "outputs": [],
   "source": [
    "import numpy as np\n",
    "import random\n",
    "import collections\n",
    "\n",
    "# base column data (hundred thousand values)\n",
    "column = list(range(10))\n",
    "random.shuffle(column)\n",
    "\n",
    "# cracker column to be reorganized (copy of original column)\n",
    "cracker_column = column[:]\n",
    "\n",
    "# cracker index. an ordered dict is a binary search tree\n",
    "cracker_index = collections.OrderedDict()"
   ]
  },
  {
   "cell_type": "code",
   "execution_count": 2,
   "metadata": {
    "collapsed": true
   },
   "outputs": [],
   "source": [
    "def crack_in_two(col, low, high, med):\n",
    "    '''Cracks a column partition into two subparitions\n",
    "    and return te position of the new partition point'''\n",
    "    x1 = low\n",
    "    x2 = high - 1\n",
    "    while x1 <= x2:\n",
    "        if col[x1] < med:\n",
    "            x1 += 1\n",
    "        else:\n",
    "            while col[x2] >= med and x2 > x1:\n",
    "                x2 -= 1\n",
    "            col[x1], col[x2] = col[x2], col[x1]\n",
    "            x1 += 1\n",
    "            x2 -= 1\n",
    "    return x2"
   ]
  }
 ],
 "metadata": {
  "kernelspec": {
   "display_name": "Python 3",
   "language": "python",
   "name": "python3"
  },
  "language_info": {
   "codemirror_mode": {
    "name": "ipython",
    "version": 3
   },
   "file_extension": ".py",
   "mimetype": "text/x-python",
   "name": "python",
   "nbconvert_exporter": "python",
   "pygments_lexer": "ipython3",
   "version": "3.6.1"
  }
 },
 "nbformat": 4,
 "nbformat_minor": 2
}
