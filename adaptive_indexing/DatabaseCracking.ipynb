{
 "cells": [
  {
   "cell_type": "markdown",
   "metadata": {},
   "source": [
    "# Database Cracking Demo\n",
    "\n",
    "\n",
    "```\n",
    " Copyright (C) 2017  LSBD Adaptive Databases Group\n",
    " \n",
    "Licensed under the Apache License, Version 2.0 (the \"License\");\n",
    "you may not use this file except in compliance with the License.\n",
    "You may obtain a copy of the License at\n",
    "\n",
    "      http://www.apache.org/licenses/LICENSE-2.0\n",
    "\n",
    "Unless required by applicable law or agreed to in writing, software\n",
    "distributed under the License is distributed on an \"AS IS\" BASIS,\n",
    "WITHOUT WARRANTIES OR CONDITIONS OF ANY KIND, either express or implied.\n",
    "See the License for the specific language governing permissions and\n",
    "limitations under the License.\n",
    "```\n",
    "\n",
    "## Reference:\n",
    "\n",
    "Idreos et. al. - Database Cracking - ICDE 2007"
   ]
  },
  {
   "cell_type": "markdown",
   "metadata": {},
   "source": [
    "## CrackInTwo algorithm\n",
    "\n",
    "Partitions the column range based on a threshold value\n",
    "\n",
    "**Example:**"
   ]
  },
  {
   "cell_type": "code",
   "execution_count": 1,
   "metadata": {
    "collapsed": true
   },
   "outputs": [],
   "source": [
    "def crack_in_two(col, low, high, c):\n",
    "    \"\"\"\n",
    "    Cracks a column partition into two subparitions.\n",
    "     - returnr the position of the new partition point\n",
    "    and the number of swaps.\n",
    "    \"\"\"\n",
    "    i = low  # keeps track of the initial lower bound\n",
    "    j = high - 1 # keeps track of the initial upper bound\n",
    "    swaps = 0 # keeps track of the number of swaps performed\n",
    "    \n",
    "    while i < j:\n",
    "        if col[i] < c:\n",
    "            i += 1\n",
    "        else:\n",
    "            while col[j] >= c and j > i:\n",
    "                j -= 1\n",
    "            col[i], col[j] = col[j], col[i]\n",
    "            swaps += 1\n",
    "            i += 1\n",
    "            j -= 1\n",
    "    \n",
    "    return (j, swaps)"
   ]
  },
  {
   "cell_type": "code",
   "execution_count": 2,
   "metadata": {},
   "outputs": [
    {
     "name": "stdout",
     "output_type": "stream",
     "text": [
      "[16, 19, 18, 4, 1, 17, 9, 7, 8, 10, 3, 2, 13, 15, 11, 12, 6, 14, 0, 5]\n",
      "(7, 6)\n",
      "[5, 0, 6, 4, 1, 2, 3, 7, 8, 10, 9, 17, 13, 15, 11, 12, 18, 14, 19, 16]\n"
     ]
    }
   ],
   "source": [
    "import random\n",
    "\n",
    "# Numbers from 0 to 19\n",
    "column = list(range(20))\n",
    "random.shuffle(column)\n",
    "print(column)\n",
    "\n",
    "# Crack and return the answer to the user\n",
    "print(crack_in_two(column, 0, len(column), 8))\n",
    "print(column)"
   ]
  },
  {
   "cell_type": "markdown",
   "metadata": {},
   "source": [
    "## CrackInThree algorithm\n",
    "\n",
    "Partitions the column so that all values in the selected range end up\n",
    "clustered together\n",
    "\n",
    "**Example:**"
   ]
  },
  {
   "cell_type": "code",
   "execution_count": 3,
   "metadata": {
    "collapsed": true
   },
   "outputs": [],
   "source": [
    "def crack_in_three(col, low, high, c1, c2):\n",
    "    \"\"\"\n",
    "    Cracks a column partition into three subparitions\n",
    "    and return te positions of the new partition points\n",
    "    \"\"\"\n",
    "    i = low  # keeps track of the initial lower bound\n",
    "    j = high - 1 # keeps track of the initial upper bound\n",
    "    swaps = 0 # keeps track of the number of swaps performed\n",
    "    \n",
    "    while col[j] >= c2 and j > i:\n",
    "        j -= 1\n",
    "        \n",
    "    # from this point k is the lower bound\n",
    "    # i is used as a supporting variable\n",
    "    k = j\n",
    "    \n",
    "    while col[k] > c1 and k > i:\n",
    "        if col[k] >= c2:\n",
    "            col[j], col[k] = col[k], col[j]\n",
    "            swaps += 1\n",
    "            j -= 1\n",
    "        k -= 1\n",
    "    \n",
    "    while i < k:\n",
    "        if col[i] < c1:\n",
    "            i += 1\n",
    "        else:\n",
    "            col[i], col[k] = col[k], col[i]\n",
    "            swaps += 1\n",
    "            while col[k] > c1 and k > i:\n",
    "                if col[k] >= c2:\n",
    "                    col[j], col[k] = col[k], col[j]\n",
    "                    swaps += 1\n",
    "                    j -= 1\n",
    "                k -= 1\n",
    "                \n",
    "    return ((k, j), swaps)"
   ]
  },
  {
   "cell_type": "code",
   "execution_count": 4,
   "metadata": {},
   "outputs": [
    {
     "name": "stdout",
     "output_type": "stream",
     "text": [
      "[8, 2, 19, 12, 18, 3, 4, 17, 11, 13, 5, 14, 0, 15, 10, 7, 9, 6, 16, 1]\n",
      "((8, 19), 10)\n",
      "[1, 2, 6, 7, 0, 3, 4, 5, 8, 13, 11, 14, 17, 15, 10, 18, 9, 12, 16, 19]\n"
     ]
    }
   ],
   "source": [
    "import random\n",
    "\n",
    "# Numbers from 0 to 19\n",
    "column = list(range(20))\n",
    "random.shuffle(column)\n",
    "print(column)\n",
    "\n",
    "# Crack and return the answer to the user\n",
    "print(crack_in_three(column, 0, len(column), 8, 24))\n",
    "print(column)"
   ]
  },
  {
   "cell_type": "markdown",
   "metadata": {},
   "source": [
    "## Cracker SELECT\n",
    "\n",
    "Each query looks for the lower and upper boundary in the cracker index\n",
    "and then cracks the partitions in the middle, if they aren't already in the\n",
    "smallest size."
   ]
  },
  {
   "cell_type": "code",
   "execution_count": 5,
   "metadata": {
    "collapsed": true
   },
   "outputs": [],
   "source": [
    "def cracker_select(col, idx, low, high):\n",
    "    \"\"\"\n",
    "    Looks up the response set in a cracker index and cracks the\n",
    "    partitions that contain saisfying records\n",
    "    \"\"\"\n",
    "    \n",
    "    # In the first query we use CrackInThree to isolate the\n",
    "    # the answers records\n",
    "    if len(idx) == 0:\n",
    "        res = crack_in_three(col, 0, len(col), low, high)\n",
    "        idx._min = res[0][0]\n",
    "        idx._max = res[0][1]\n",
    "        idx.insert(low, res[0][0])\n",
    "        idx.insert(high, res[0][1])\n",
    "        return res\n",
    "    \n",
    "    # boundaries of the lowest partition than contains answer records\n",
    "    p1_min = 0 if low < idx._min else idx.floor_item(low)[1]\n",
    "    p1_max = len(col) if low > idx._max else idx.ceiling_item(low)[1]\n",
    "    \n",
    "    # crack the lowest partition to get the answer lower bound\n",
    "    p1_res = crack_in_two(col, p1_min, p1_max, low)\n",
    "    idx.insert(low, p1_res[0])\n",
    "    if p1_res[0] < idx._min:\n",
    "        idx._min = p1_res[0]\n",
    "    \n",
    "    # boundaries of the highest partition than contains answer records\n",
    "    p2_min = 0 if high < idx._min else idx.floor_item(high)[1]\n",
    "    p2_max = len(col) if high > idx._max else idx.ceiling_item(high)[1]\n",
    "    \n",
    "    # crack the highest partition to get the answer higher bound\n",
    "    p2_res = crack_in_two(col, p2_min, p2_max, high)\n",
    "    idx.insert(high, p2_res[0])\n",
    "    if p2_res[0] < idx._max:\n",
    "        idx._min = p1_res[0]\n",
    "    \n",
    "    # final answer boundaries and swap count\n",
    "    return ((p1_res[0], p2_res[0]), p1_res[1] + p2_res[1])"
   ]
  },
  {
   "cell_type": "markdown",
   "metadata": {},
   "source": [
    "## Experimental evaluation\n",
    "\n",
    "Here we plot the response times and the number of swaps performed by\n",
    "Database Cracking in a random workload"
   ]
  },
  {
   "cell_type": "code",
   "execution_count": 6,
   "metadata": {},
   "outputs": [
    {
     "data": {
      "image/png": "[encoded data removed]",
      "text/plain": [
       "<matplotlib.figure.Figure at 0x7fc7445c65c0>"
      ]
     },
     "metadata": {},
     "output_type": "display_data"
    },
    {
     "data": {
      "image/png": "[encoded data removed]",
      "text/plain": [
       "<matplotlib.figure.Figure at 0x7fc74aaddb00>"
      ]
     },
     "metadata": {},
     "output_type": "display_data"
    },
    {
     "data": {
      "image/png": "[encoded data removed]",
      "text/plain": [
       "<matplotlib.figure.Figure at 0x7fc7207af438>"
      ]
     },
     "metadata": {},
     "output_type": "display_data"
    }
   ],
   "source": [
    "import random\n",
    "import bintrees\n",
    "import timeit\n",
    "import matplotlib.pyplot as plt\n",
    "\n",
    "# Cracker column\n",
    "column_length = 100000\n",
    "column = list(range(column_length))\n",
    "random.shuffle(column)\n",
    "\n",
    "# Cracker index that keeps track of the cracks positions\n",
    "index = bintrees.AVLTree()\n",
    "\n",
    "# Query execution times\n",
    "linear_scan_times = []\n",
    "cracking_times = []\n",
    "\n",
    "linear_scan_times_sum = [0]\n",
    "cracking_times_sum = [0]\n",
    "\n",
    "# Number of swaps performed\n",
    "swaps = []\n",
    "\n",
    "# Put the query boundaries in context\n",
    "low = -1\n",
    "high = -1\n",
    "\n",
    "\n",
    "# Performs a linear scan\n",
    "def linear_scan():\n",
    "    recs = 0\n",
    "    for x in column:\n",
    "        if x > low and x < high:\n",
    "            recs += 1\n",
    "    return recs\n",
    "\n",
    "# Performs a range query with random bounds\n",
    "def cracking_scan():\n",
    "    swaps.append(cracker_select(column, index, low, high)[1])\n",
    "\n",
    "\n",
    "# Run a number of range queries and collect the response times\n",
    "for k in range(1000):\n",
    "    low = random.randrange(0, column_length - 5)\n",
    "    high = random.randrange(low + 1, column_length)\n",
    "    linear_scan_times.append(timeit.timeit(linear_scan, number=1))\n",
    "    cracking_times.append(timeit.timeit(cracking_scan, number=1))\n",
    "    linear_scan_times_sum.append(linear_scan_times_sum[-1] + linear_scan_times[-1])\n",
    "    cracking_times_sum.append(cracking_times_sum[-1] + cracking_times[-1])\n",
    "\n",
    "\n",
    "# Plot the results on time ans swaps for the\n",
    "# processed queries\n",
    "plt.title('Response times')\n",
    "plt.plot(cracking_times, 'b-')\n",
    "plt.plot(linear_scan_times, 'g-')\n",
    "plt.show()\n",
    "\n",
    "plt.title('Response accumulated')\n",
    "plt.plot(cracking_times_sum, 'b-')\n",
    "plt.plot(linear_scan_times_sum, 'g-')\n",
    "plt.show()\n",
    "\n",
    "plt.title('Number or swaps')\n",
    "plt.plot(swaps, 'r-')\n",
    "plt.show()"
   ]
  },
  {
   "cell_type": "code",
   "execution_count": null,
   "metadata": {
    "collapsed": true
   },
   "outputs": [],
   "source": []
  }
 ],
 "metadata": {
  "kernelspec": {
   "display_name": "Python 3",
   "language": "python",
   "name": "python3"
  },
  "language_info": {
   "codemirror_mode": {
    "name": "ipython",
    "version": 3
   },
   "file_extension": ".py",
   "mimetype": "text/x-python",
   "name": "python",
   "nbconvert_exporter": "python",
   "pygments_lexer": "ipython3",
   "version": "3.6.1"
  }
 },
 "nbformat": 4,
 "nbformat_minor": 2
}
